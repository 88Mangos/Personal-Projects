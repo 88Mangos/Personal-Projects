{
 "cells": [
  {
   "attachments": {},
   "cell_type": "markdown",
   "metadata": {},
   "source": [
    "# Data Science and Soccer\n",
    "### Investigating the Power of Scoring First\n",
    "By Tyler Yang <br>\n",
    "Written on May 29th, 2023<br>\n",
    "Medium Post Link: https://medium.com/@tjyang2005/data-science-and-soccer-a6b7d3445ae4"
   ]
  },
  {
   "attachments": {},
   "cell_type": "markdown",
   "metadata": {},
   "source": [
    "I started playing club soccer in 4th grade. I never took the sport very seriously since I played for fun, not for the dream of going pro. Yet in my 7+ years of competitive soccer, I have put in considerable time and effort into performing at my highest level for my team. However, while in games, I have noticed some odd trends I want to look at through data science. \n",
    "<br>\n",
    "<br>\n",
    "The first trend I notice is that the team that scores the first goal often wins. This is because the team that scores the first goal was obviously good enough to score, but moreover, this first goal demoralizes the other team.\n",
    "<br>\n",
    "<br>\n",
    "However, there is a catch to that first observation - I noticed that when a team gets scored on before halftime, they often come out harder during the second half and make comebacks. \n",
    "<br>\n",
    "<br>\n",
    "I will do hypothesis testing to see if the trends I notice in club soccer also occur in professional soccer. To do so, I will look at results from the 2022–2023 English Premier League Season. I specifically looked at data from the first 14 matchdays; I have not learned web scraping yet, so I had to find all the teams that scored the first goal and the minute the first goal was scored in by looking at each match's summary."
   ]
  },
  {
   "attachments": {},
   "cell_type": "markdown",
   "metadata": {},
   "source": [
    "<strong>Data were obtained from several websites:</strong>\n",
    "<br>\n",
    "EuroSport: https://www.eurosport.com/football/premier-league/calendar-results.shtml <br>\n",
    "Fbref: https://fbref.com/en/comps/9/schedule/Premier-League-Scores-and-Fixtures <br>\n",
    "FixtureDownload: https://fixturedownload.com/results/epl-2022%5C <br>\n",
    "The Python Code for setting up my dataset is shown below. Download the .xlsx file from GitHub before trying to run this code.<br>\n",
    "To test my hypotheses, I will be using Python, with NumPy and Pandas."
   ]
  },
  {
   "cell_type": "code",
   "execution_count": 12,
   "metadata": {},
   "outputs": [],
   "source": [
    "# Imports\n",
    "import pandas as pd\n",
    "import numpy as np\n",
    "import math\n",
    "from statistics import NormalDist"
   ]
  },
  {
   "cell_type": "code",
   "execution_count": 13,
   "metadata": {},
   "outputs": [
    {
     "name": "stdout",
     "output_type": "stream",
     "text": [
      "   Arsenal  Aston Villa  Bournemouth  Brentford  Brighton  Chelsea  \\\n",
      "0     83.9         79.3         59.6       77.1      80.9     75.8   \n",
      "\n",
      "   Crystal Palace  Everton  Fulham  Leeds  Leicester  Liverpool  Man City  \\\n",
      "0            73.5     63.6    68.2   59.0       64.4       83.9      92.3   \n",
      "\n",
      "   Man Utd  Newcastle  Nottingham Forest  Southampton  Spurs  West Ham  Wolves  \n",
      "0     79.1       83.7               56.1         56.7   72.1      70.9    59.1  \n"
     ]
    }
   ],
   "source": [
    "# SPI statistics to calculate predicted win percentages\n",
    "spi = {\n",
    "    'Arsenal': [83.9],\n",
    "    'Aston Villa': [79.3],\n",
    "    'Bournemouth': [59.6],\n",
    "    'Brentford': [77.1],\n",
    "    'Brighton': [80.9],\n",
    "    'Chelsea': [75.8],\n",
    "    'Crystal Palace': [73.5],\n",
    "    'Everton': [63.6],\n",
    "    'Fulham': [68.2],\n",
    "    'Leeds': [59.0],\n",
    "    'Leicester': [64.4],\n",
    "    'Liverpool': [83.9],\n",
    "    'Man City': [92.3],\n",
    "    'Man Utd':  [79.1],\n",
    "    'Newcastle': [83.7],\n",
    "    'Nottingham Forest': [56.1],\n",
    "    'Southampton': [56.7],\n",
    "    'Spurs': [72.1],\n",
    "    'West Ham': [70.9],\n",
    "    'Wolves': [59.1]\n",
    "    }\n",
    "\n",
    "spi_df = pd.DataFrame.from_dict(spi)\n",
    "\n",
    "print(spi_df)"
   ]
  },
  {
   "cell_type": "code",
   "execution_count": 14,
   "metadata": {},
   "outputs": [
    {
     "name": "stdout",
     "output_type": "stream",
     "text": [
      "140\n",
      "               Home               Away  Score   First Goal Time  Home Goals  \\\n",
      "0    Crystal Palace            Arsenal  0 - 2      Arsenal   20         0.0   \n",
      "1            Fulham          Liverpool  2 - 2       Fulham   32         2.0   \n",
      "2       Bournemouth        Aston Villa  2 - 0  Bournemouth    2         2.0   \n",
      "3             Leeds             Wolves  2 - 1       Wolves    6         2.0   \n",
      "4         Newcastle  Nottingham Forest  2 - 0    Newcastle   58         2.0   \n",
      "..              ...                ...    ...          ...  ...         ...   \n",
      "135       Newcastle        Aston Villa  4 - 0    Newcastle   45         4.0   \n",
      "136          Fulham            Everton  0 - 0          TIE  TIE         0.0   \n",
      "137       Liverpool              Leeds  1 - 2        Leeds    4         1.0   \n",
      "138         Arsenal  Nottingham Forest  5 - 0      Arsenal    5         5.0   \n",
      "139         Man Utd           West Ham  1 - 0      Man Utd   38         1.0   \n",
      "\n",
      "     Away Goals       Winner              Loser              Other  \n",
      "0           2.0      Arsenal     Crystal Palace     Crystal Palace  \n",
      "1           2.0          TIE                TIE          Liverpool  \n",
      "2           0.0  Bournemouth        Aston Villa        Aston Villa  \n",
      "3           1.0        Leeds             Wolves              Leeds  \n",
      "4           0.0    Newcastle  Nottingham Forest  Nottingham Forest  \n",
      "..          ...          ...                ...                ...  \n",
      "135         0.0    Newcastle        Aston Villa        Aston Villa  \n",
      "136         0.0          TIE                TIE                NaN  \n",
      "137         2.0        Leeds          Liverpool          Liverpool  \n",
      "138         0.0      Arsenal  Nottingham Forest  Nottingham Forest  \n",
      "139         0.0      Man Utd           West Ham           West Ham  \n",
      "\n",
      "[140 rows x 10 columns]\n"
     ]
    }
   ],
   "source": [
    "# Fixture Data from EPL 22-23 Season, Matchdays 1-14\n",
    "data1 = pd.read_excel('epl-2022-UTC.xlsx', sheet_name='Data1') #Note: you may have to adjust the filepath to read the .xlsx file.\n",
    "df = pd.DataFrame(data1)\n",
    "gameCount = df.shape[0]\n",
    "print(gameCount)\n",
    "goalsHome = np.zeros(gameCount)\n",
    "goalsAway = np.zeros(gameCount)\n",
    "for i in range(0, gameCount):\n",
    "    x = df['Score'][i].split()\n",
    "    goalsHome[i] = x[0]\n",
    "    goalsAway[i] = x[2]\n",
    "df['Home Goals'] = goalsHome\n",
    "df['Away Goals'] = goalsAway\n",
    "\n",
    "winner = []\n",
    "loser = []\n",
    "for i in range(0, gameCount):\n",
    "    if df['Home Goals'][i] == df['Away Goals'][i]:\n",
    "        winner.append('TIE')\n",
    "        loser.append('TIE')\n",
    "    elif df['Home Goals'][i] > df['Away Goals'][i]:\n",
    "        winner.append(df['Home'][i])\n",
    "        loser.append(df['Away'][i])\n",
    "    else:\n",
    "        winner.append(df['Away'][i])\n",
    "        loser.append(df['Home'][i])\n",
    "df['Winner'] = winner\n",
    "df['Loser'] = loser\n",
    "\n",
    "other = []\n",
    "for i in range(0, gameCount):\n",
    "    if df['First Goal'][i] == df['Home'][i]:\n",
    "        other.append(df['Away'][i])\n",
    "    elif df['First Goal'][i] == df['Away'][i]:\n",
    "        other.append(df['Home'][i])\n",
    "    else:\n",
    "        other.append(\"NaN\")\n",
    "df['Other'] = other\n",
    "\n",
    "print(df)"
   ]
  },
  {
   "attachments": {},
   "cell_type": "markdown",
   "metadata": {},
   "source": [
    "## Does scoring first increase your chances of winning?\n",
    "For the purposes of testing this hypothesis, a win is a success while a tie or a loss is a failure. After all, if you score first, you should maintain your lead; failing to do so is a failure. <br>\n",
    "We will set the chances of winning for each game according to SPI ratings at the beginning of the 22–23 EPL season from FiveThirtyEight: https://projects.fivethirtyeight.com/soccer-predictions/premier-league/ <br>\n",
    "The probability team A beats team B is equal to SPI_A / (SPI_A + SPI_B). One limitation of this approach is that a team's SPI changes throughout the season, so the probability should change accordingly. However, I will treat the teams as if they did not improve or regress during the season, keeping their SPI rating constant. <br>"
   ]
  },
  {
   "attachments": {},
   "cell_type": "markdown",
   "metadata": {},
   "source": [
    "The code block below calculates the expected win percentages for each games and averages them into p0. We also calculate the proportion of results that were expected: namely, that the team that scored first was also the winning team. <br>\n",
    "<i>Note that the variable name expectedResults is confusing if you don't read the text above.</i>"
   ]
  },
  {
   "cell_type": "code",
   "execution_count": 15,
   "metadata": {},
   "outputs": [],
   "source": [
    "p0 = 0\n",
    "expectedResults = 0\n",
    "gamesWithGoals = gameCount\n",
    "for i in range(0, gameCount):\n",
    "    if (df['Score'][i] == '0 - 0'):\n",
    "        gamesWithGoals -= 1\n",
    "        continue\n",
    "    p0 += spi_df[df['First Goal'][i]] / (spi_df[df['First Goal'][i]] + spi_df[df['Other'][i]])\n",
    "    if df['First Goal'][i] == df['Winner'][i]:\n",
    "        expectedResults+=1\n",
    "\n",
    "p0 /= gamesWithGoals\n",
    "expectedResults /= gamesWithGoals"
   ]
  },
  {
   "attachments": {},
   "cell_type": "markdown",
   "metadata": {},
   "source": [
    "We carry out our 1-Sample Z-Test for Proportions.<br>\n",
    "### Hypotheses\n",
    "H0: p == p0<br>\n",
    "Ha: p != p0<br>\n",
    "Where p is the proportion of games in which the team that scores first also wins the game.<br>\n",
    "### Checking Conditions\n",
    "Note that these are roughly satisfied. <i>Technically</i>, the results are are only generalizable to EPL games during the 22-23 Season, and this would thus fail the 10% condition since 14 matchdays is 14/38 or rougly 37% of all EPL matchdays in the 22-23 season. Furthermore, the games were not randomly chosen; it's the first 14 matchdays, which makes this a convenience sample. The reason why I carry out the test anyways is because the EPL 22-23 Season is a small enough population to analyze without having to use significance testing, so I will not use my data to make conclusions about the EPL 22-23 season, but rather about professional soccer games as a whole. In that sense, the first 14 matchdays of the EPL 22-23 season is a randomly chosen set of games in a randomly chosen country in a randomly chosen division in a randomly chosen year. <br><br>\n",
    "The<b> Random Condition</b> is not satisfied. Proceed with the test anyways, since 14 games of the 22-23 EPL season is a randomly chosen season and set of games out of all possible professional soccer games. <br><br>\n",
    "The <b>10% Condition for Independence</b> is satisfied. n = 127, which is less than 10% of all games in which a goal is scored (thus there would be a team that scored the first goal).<br><br>\n",
    "The <b>Large Counts Condition</b> is satisfied.<br>\n",
    "np0 = 127(0.511181) = 64.92 ≥ 10<br>\n",
    "n(1-p0) = 127(1–0.511181) = 62.08 ≥ 10<br>"
   ]
  },
  {
   "attachments": {},
   "cell_type": "markdown",
   "metadata": {},
   "source": [
    "### Results"
   ]
  },
  {
   "cell_type": "code",
   "execution_count": 16,
   "metadata": {},
   "outputs": [
    {
     "name": "stdout",
     "output_type": "stream",
     "text": [
      "P-value: 0.007429665277258746\n"
     ]
    }
   ],
   "source": [
    "# Conduct the 1-Sample Z-Test for Proportions\n",
    "# H0 = p == p0\n",
    "# Ha = p != p0\n",
    "# Two tailed test\n",
    "phat = expectedResults\n",
    "p0 = p0\n",
    "n = gamesWithGoals\n",
    "\n",
    "z = (phat - p0)/math.sqrt(p0 * (1 - p0) /n)\n",
    "pvalue = 2 * (1 - NormalDist(mu=0,sigma=1).cdf(z))\n",
    "print('P-value:', pvalue)"
   ]
  },
  {
   "attachments": {},
   "cell_type": "markdown",
   "metadata": {},
   "source": [
    "### Conclusion\n",
    "At a significance level of alpha = 0.05, we reject H0 because the p-value of 0.0074 (rounded to the nearest ten-thousandth) is less than 0.05. There is statistical evidence that scoring the first goal improves a team's chances of winning. <br>\n",
    "This is a pretty interesting conclusion, but it makes sense. However, in my personal experience, I have seen that scoring the first goal is a double-edged sword. On one hand, the team that scores the first goal can carry their momentum forward against a demoralized opposition. On the other hand, the winning team gets lax on defense and allows the other team to come back into the game. <br><br>\n",
    "Therefore, I asked another question:"
   ]
  },
  {
   "attachments": {},
   "cell_type": "markdown",
   "metadata": {},
   "source": [
    "## If you score first, does when you score first make a difference?\n",
    "Now that we know that scoring first does not always lead to victory, I want to know if <i> when </i>the team scores that first goal affects their chances of winning. <br><br>\n",
    "We first calculate our sample statistics. phat1 is the proportion of games in the EPL 22-23 season in which the first goal of the game was scored in the first half, where the winning team scored that first goal. phat2 is the proportion of games in the EPL 22-23 season in which the first goal of the game was scored in the second half, where the winning team scored that first goal."
   ]
  },
  {
   "cell_type": "code",
   "execution_count": 17,
   "metadata": {},
   "outputs": [],
   "source": [
    "p1 = 0\n",
    "n1 = 0\n",
    "p2 = 0\n",
    "n2 = 0\n",
    "for i in range(0,gameCount):\n",
    "    if (df['Score'][i] == '0 - 0'):\n",
    "        continue\n",
    "    # First Half\n",
    "    if df['Time'][i] <= 45:\n",
    "        n1 += 1\n",
    "        if df['First Goal'][i] == df['Winner'][i]:\n",
    "            p1+=1\n",
    "    elif df['Time'][i] > 45:\n",
    "        n2 += 1\n",
    "        if df['First Goal'][i] == df['Winner'][i]:\n",
    "            p2 += 1\n",
    "\n",
    "phat1 = p1/n1\n",
    "phat2 = p2/n2\n",
    "phatc = (p1+p2)/(n1+n2)"
   ]
  },
  {
   "attachments": {},
   "cell_type": "markdown",
   "metadata": {},
   "source": [
    "### Hypotheses\n",
    "H0: p1 - p2 = 0 <br>\n",
    "Ha1: p1 - p2 < 0 <br>\n",
    "Ha2: p1 - p2 > 0\n",
    "p1 is the proportion of professional soccer games in which the first goal of the game was scored in the first half, where the winning team scored that first goal. <br>\n",
    "p2 is the proportion of professional soccer games in which the first goal of the game was scored in the second half, where the winning team scored that first goal.<br><br>\n",
    "In essence, my first alternative hypothesis is that if you score first in the second half, you are more likely to win because <br>\n",
    "A. The other team has less time to come back, and <br>\n",
    "B. Scoring first in the first half gives the other team more motivation at halftime, during which they will rest up and come out harder during the second half.\n",
    "<br><br>\n",
    "My second alternative hypothesis is that if you score first in the first half, you are a much stronger team than your opponent and thus it does not take long for you to score.\n",
    "### Conditions\n",
    "The <b>Random Condition</b> is not satisfied, but I will proceed anyways under the same reasoning as I did in the first hypothesis test.<br><br>\n",
    "The <b>10% Condition for Independence</b> is satisfied. n1 = 101, which is less than 10% of all games in which the first goal is scored in the first half; n2 = 26, which is less than 10% of all games in which the first goal is scored in the second half.<br><br>\n",
    "The <b>Large Counts Condition</b> is satisfied.<br>\n",
    "n1phat1 = 65 ≥ 10<br>\n",
    "n1(1-phat1) = 36 ≥ 10<br>\n",
    "n2phat2 = 15 ≥ 10<br>\n",
    "n2(1-phat2) = 11 ≥ 10<br>"
   ]
  },
  {
   "attachments": {},
   "cell_type": "markdown",
   "metadata": {},
   "source": [
    "### Results"
   ]
  },
  {
   "cell_type": "code",
   "execution_count": 18,
   "metadata": {},
   "outputs": [
    {
     "name": "stdout",
     "output_type": "stream",
     "text": [
      "P-value for Ha1:  0.9999999982988261\n",
      "P-value for Ha2:  1.7011738684402644e-09\n"
     ]
    }
   ],
   "source": [
    "z = ((phat1 - phat2)-0)/(phatc*(1-phatc)*(1/n1+1/n2))\n",
    "#Left tailed for Ha1\n",
    "pvalue1 = NormalDist(mu=0,sigma=1).cdf(z)\n",
    "print('P-value for Ha1: ', pvalue1)\n",
    "#Right tailed for Ha2\n",
    "pvalue2 = 1-NormalDist(mu=0,sigma=1).cdf(z)\n",
    "print('P-value for Ha2: ', pvalue2)"
   ]
  },
  {
   "attachments": {},
   "cell_type": "markdown",
   "metadata": {},
   "source": [
    "## Conclusion\n",
    "When testing Ha1 at a significance level of alpha = 0.05, we fail to reject H0 because the p-value (rounded to the nearest ten-thousandth) of 1.0000 is greater than 0.05. There is no convincing statistical evidence that p2 is greater than p1. <br>\n",
    "When testing Ha2 at a significance level of alpha = 0.05, we reject H0 because the p-value of 0.0000 (rounded to the nearest ten-thousandth) is less than 0.05. There is convincing statistical evidence that p1 is greater than p2. <br><br>\n",
    "We have statistical evidence that, when a team scores the first goal, they are more likely to win if they score that first goal in the first half than in the second half.<br><br>\n",
    "It seems that, for the most part, the team that scores first early on is stronger on the day, and thus is more likely to win, whereas a team that scores first later on in the match is struggling to find the net offensively, which may also indicate overall weakness that affects their defense too."
   ]
  }
 ],
 "metadata": {
  "kernelspec": {
   "display_name": "Python 3",
   "language": "python",
   "name": "python3"
  },
  "language_info": {
   "codemirror_mode": {
    "name": "ipython",
    "version": 3
   },
   "file_extension": ".py",
   "mimetype": "text/x-python",
   "name": "python",
   "nbconvert_exporter": "python",
   "pygments_lexer": "ipython3",
   "version": "3.9.13"
  },
  "orig_nbformat": 4
 },
 "nbformat": 4,
 "nbformat_minor": 2
}
